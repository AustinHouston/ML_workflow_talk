{
 "cells": [
  {
   "cell_type": "markdown",
   "metadata": {},
   "source": [
    "# Notebook for K-Means Clustering\n",
    "\n",
    "### By Austin Houston\n",
    "\n",
    "For AReMS, Spring 2025"
   ]
  },
  {
   "cell_type": "markdown",
   "metadata": {},
   "source": [
    "[![Open in Colab](https://colab.research.google.com/assets/colab-badge.svg)](https://colab.research.google.com/github/AustinHouston/AReMS_2025/blob/main/1_KMeans.ipynb)"
   ]
  },
  {
   "cell_type": "markdown",
   "metadata": {},
   "source": [
    "Paper published in 1982\n",
    "\n",
    "Internally circulated in Bell Labs in 1957\n",
    "\n",
    "https://doi.org/10.1109/TIT.1982.1056489"
   ]
  },
  {
   "cell_type": "markdown",
   "metadata": {},
   "source": [
    "### Load in the necessary libraries"
   ]
  },
  {
   "cell_type": "code",
   "execution_count": null,
   "metadata": {},
   "outputs": [],
   "source": [
    "!pip install ipympl"
   ]
  },
  {
   "cell_type": "code",
   "execution_count": null,
   "metadata": {},
   "outputs": [],
   "source": [
    "import os\n",
    "import sys\n",
    "import cv2\n",
    "import numpy as np\n",
    "\n",
    "# plotting\n",
    "import matplotlib.pyplot as plt\n",
    "import matplotlib.colors as colors\n",
    "from mpl_toolkits.mplot3d import Axes3D\n",
    "if 'google.colab' in sys.modules:\n",
    "    %matplotlib widget\n",
    "    from google.colab import output\n",
    "    output.enable_custom_widget_manager()\n",
    "\n",
    "# the star of the show:\n",
    "from sklearn.cluster import KMeans\n",
    "\n",
    "# clone the github repository\n",
    "repo_url = 'https://github.com/AustinHouston/AReMS_2025.git'\n",
    "repo_name = 'AReMS_2025'\n",
    "if not os.path.exists(repo_name):\n",
    "    !git clone {repo_url}\n"
   ]
  },
  {
   "cell_type": "markdown",
   "metadata": {},
   "source": [
    "### Load in data"
   ]
  },
  {
   "cell_type": "code",
   "execution_count": null,
   "metadata": {},
   "outputs": [],
   "source": [
    "path = './AReMS_2025/images_for_KMeans/'\n",
    "files = os.listdir(path)\n",
    "print(files)"
   ]
  },
  {
   "cell_type": "markdown",
   "metadata": {},
   "source": [
    "You can put any .jpg file in the folder below and run the same example we are about to do together"
   ]
  },
  {
   "cell_type": "markdown",
   "metadata": {},
   "source": [
    "### Visualize the images, and pick your favorite one!"
   ]
  },
  {
   "cell_type": "code",
   "execution_count": null,
   "metadata": {},
   "outputs": [],
   "source": [
    "selected_file = files[0]\n",
    "\n",
    "print(selected_file)\n",
    "\n",
    "# Load the image\n",
    "image = cv2.imread(os.path.join(path, selected_file))\n",
    "image = cv2.cvtColor(image, cv2.COLOR_BGR2RGB)\n",
    "\n",
    "# Plot the image\n",
    "fig, ax = plt.subplots(1,1)\n",
    "ax.imshow(image)\n",
    "ax.axis('off')\n",
    "plt.show()"
   ]
  },
  {
   "cell_type": "markdown",
   "metadata": {},
   "source": [
    "Each pixel has 3 values (RGB)"
   ]
  },
  {
   "cell_type": "code",
   "execution_count": null,
   "metadata": {},
   "outputs": [],
   "source": [
    "# plot the values for each pixels\n",
    "fig, axs = plt.subplots(1, 3, figsize=(15, 5))\n",
    "\n",
    "axs[0].imshow(image[:, :, 0], cmap='Reds', vmin=0, vmax=255)\n",
    "axs[0].set_title('Red Channel')\n",
    "\n",
    "axs[1].imshow(image[:, :, 1], cmap='Greens', vmin=0, vmax=255)\n",
    "axs[1].set_title('Green Channel')\n",
    "\n",
    "axs[2].imshow(image[:, :, 2], cmap='Blues', vmin=0, vmax=255)\n",
    "axs[2].set_title('Blue Channel')\n",
    "\n",
    "for a in axs:\n",
    "    a.axis('off')\n",
    "fig.tight_layout()\n"
   ]
  },
  {
   "cell_type": "markdown",
   "metadata": {},
   "source": [
    "### Scatter the RGB values in 3D space"
   ]
  },
  {
   "cell_type": "code",
   "execution_count": null,
   "metadata": {},
   "outputs": [],
   "source": [
    "# for computation, let's only plot 0.1 %\n",
    "sparsity_factor = 0.001\n",
    "num_points = int(image.shape[0] * image.shape[1] * sparsity_factor)\n",
    "indices = np.random.choice(image.shape[0] * image.shape[1], num_points, replace=False)\n",
    "\n",
    "# Get the RGB values for the selected pixels\n",
    "pixels = image.reshape(-1, 3)\n",
    "\n",
    "# Create a 3D scatter plot\n",
    "fig = plt.figure()\n",
    "ax = fig.add_subplot(111, projection='3d')\n",
    "\n",
    "# Scatter plot for the selected pixels\n",
    "ax.scatter(pixels[indices, 0], pixels[indices, 1], pixels[indices, 2], c=pixels[indices] / 255.0, alpha=0.8)\n",
    "ax.set_xlabel('Red')\n",
    "ax.set_ylabel('Green')\n",
    "ax.set_zlabel('Blue')"
   ]
  },
  {
   "cell_type": "markdown",
   "metadata": {},
   "source": [
    "### Now, let's apply KMeans clustering"
   ]
  },
  {
   "cell_type": "code",
   "execution_count": null,
   "metadata": {},
   "outputs": [],
   "source": [
    "# some preprocessing\n",
    "pixels_ravel = np.ravel(pixels)\n",
    "pixels = np.reshape(pixels_ravel, [-1, 3])\n",
    "print(pixels.shape)"
   ]
  },
  {
   "cell_type": "code",
   "execution_count": null,
   "metadata": {},
   "outputs": [],
   "source": [
    "n_clusters = 3\n",
    "\n",
    "# do the fit\n",
    "kmeans = KMeans(n_clusters=n_clusters, random_state=42)\n",
    "kmeans.fit(pixels)\n",
    "\n",
    "# Extract RGB values of cluster centers\n",
    "r, g, b = kmeans.cluster_centers_[:, 0], kmeans.cluster_centers_[:, 1], kmeans.cluster_centers_[:, 2]\n",
    "color_vals = list(zip(r / 255, g / 255, b / 255))\n",
    "\n",
    "# Label for the closest cluster center to each pixel\n",
    "labels = kmeans.labels_"
   ]
  },
  {
   "cell_type": "code",
   "execution_count": null,
   "metadata": {},
   "outputs": [],
   "source": [
    "# 3D Scatter plot of the clusters and cluster centers\n",
    "fig = plt.figure(figsize=(10, 7))\n",
    "ax = fig.add_subplot(111, projection='3d')\n",
    "\n",
    "# Scatter plot of the sparse data points \n",
    "ax.scatter(pixels[indices, 0], pixels[indices, 1], pixels[indices, 2], c=pixels[indices] / 255.0, alpha=0.8)\n",
    "\n",
    "# Scatter plot of cluster centers\n",
    "ax.scatter(r, b, g, color=color_vals, s=300, edgecolor='black')\n",
    "\n",
    "# Set labels\n",
    "ax.set_xlabel('Red')\n",
    "ax.set_ylabel('Green')\n",
    "ax.set_zlabel('Blue')\n",
    "plt.title(f'3D scatter plot of clusters for {n_clusters} clusters (Sparse Plot)')\n",
    "plt.legend()\n"
   ]
  },
  {
   "cell_type": "markdown",
   "metadata": {},
   "source": [
    "### Histogram visualization"
   ]
  },
  {
   "cell_type": "code",
   "execution_count": null,
   "metadata": {},
   "outputs": [],
   "source": [
    "# Shift bins by -0.5 so that bars are centered at integer ticks\n",
    "bins = np.arange(n_clusters + 1) - 0.5\n",
    "\n",
    "plt.figure()\n",
    "n, bins, patches = plt.hist(labels, bins = bins, edgecolor = 'white')\n",
    "for bin in range(0, n_clusters):\n",
    "    patches[bin].set_facecolor(color_vals[bin])\n",
    "\n",
    "ticklabels = [i for i in range(n_clusters)]\n",
    "plt.xticks(ticklabels)\n",
    "plt.xlabel('Cluster Center')\n",
    "plt.ylabel('Counts')\n",
    "plt.title(f'Pixels per Cluster: {n_clusters} clusters')"
   ]
  },
  {
   "cell_type": "markdown",
   "metadata": {},
   "source": [
    "### Reconstruct the image using cluster centers"
   ]
  },
  {
   "cell_type": "code",
   "execution_count": null,
   "metadata": {},
   "outputs": [],
   "source": [
    "reduced_image = np.zeros_like(image)\n",
    "\n",
    "# Assign each pixel to the nearest cluster center\n",
    "for i in range(n_clusters):\n",
    "    reduced_image[labels.reshape(image.shape[0], image.shape[1]) == i] = kmeans.cluster_centers_[i]\n",
    "\n",
    "# Plot the reduced image\n",
    "plt.figure(figsize=(10, 10))\n",
    "plt.imshow(reduced_image)\n",
    "plt.axis('off')"
   ]
  },
  {
   "cell_type": "code",
   "execution_count": null,
   "metadata": {},
   "outputs": [],
   "source": []
  }
 ],
 "metadata": {
  "kernelspec": {
   "display_name": "Python 3 (ipykernel)",
   "language": "python",
   "name": "python3"
  },
  "language_info": {
   "codemirror_mode": {
    "name": "ipython",
    "version": 3
   },
   "file_extension": ".py",
   "mimetype": "text/x-python",
   "name": "python",
   "nbconvert_exporter": "python",
   "pygments_lexer": "ipython3",
   "version": "3.11.0"
  },
  "vscode": {
   "interpreter": {
    "hash": "f4e3c63a28d2eadc36e3bba0725a6dea388233dd4d06cf5319c6ed40df7370ac"
   }
  }
 },
 "nbformat": 4,
 "nbformat_minor": 2
}
